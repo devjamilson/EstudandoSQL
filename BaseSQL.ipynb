{
 "cells": [
  {
   "cell_type": "markdown",
   "metadata": {},
   "source": [
    "## **Dados Que Serão Utilizados Para Essas Consultas - MER** "
   ]
  },
  {
   "cell_type": "markdown",
   "metadata": {},
   "source": [
    "### Categorias de Vendas"
   ]
  },
  {
   "cell_type": "code",
   "execution_count": null,
   "metadata": {},
   "outputs": [],
   "source": [
    "# Crie um dataframe de exemplo\n",
    "data = {\n",
    "    'id': [1, 2, 3, 4],\n",
    "    'categoria': ['Alice', 'Bob', 'Charlie', 'David'],\n",
    "    'departamento': [25, 30, 35, 40],\n",
    "    'valor unitario': [100,200,200,200]\n",
    "}"
   ]
  },
  {
   "cell_type": "markdown",
   "metadata": {},
   "source": [
    "### Vendas"
   ]
  },
  {
   "cell_type": "code",
   "execution_count": null,
   "metadata": {},
   "outputs": [],
   "source": [
    "# Crie um dataframe de exemplo\n",
    "data = {\n",
    "    'id': [1, 2, 3, 4],\n",
    "    'categoria': ['Alice', 'Bob', 'Charlie', 'David'],\n",
    "    'departamento': [25, 30, 35, 40],\n",
    "    'valor unitario': [100,200,200,200]\n",
    "}"
   ]
  },
  {
   "cell_type": "markdown",
   "metadata": {},
   "source": [
    "### Estoque"
   ]
  },
  {
   "cell_type": "code",
   "execution_count": null,
   "metadata": {},
   "outputs": [],
   "source": [
    "# Crie um dataframe de exemplo\n",
    "data = {\n",
    "    'id': [1, 2, 3, 4],\n",
    "    'categoria': ['Alice', 'Bob', 'Charlie', 'David'],\n",
    "    'departamento': [25, 30, 35, 40],\n",
    "    'valor unitario': [100,200,200,200]\n",
    "}"
   ]
  },
  {
   "cell_type": "markdown",
   "metadata": {},
   "source": [
    "### Salarios por Departamentos"
   ]
  },
  {
   "cell_type": "code",
   "execution_count": null,
   "metadata": {},
   "outputs": [],
   "source": [
    "# Crie um dataframe de exemplo\n",
    "data = {\n",
    "    'id': [1, 2, 3, 4],\n",
    "    'categoria': ['Alice', 'Bob', 'Charlie', 'David'],\n",
    "    'departamento': [25, 30, 35, 40],\n",
    "    'valor unitario': [100,200,200,200]\n",
    "}"
   ]
  },
  {
   "cell_type": "markdown",
   "metadata": {},
   "source": [
    "## **Definindo os Casos de Uso das Consultas:**"
   ]
  },
  {
   "cell_type": "markdown",
   "metadata": {},
   "source": [
    "### Caso de uso 1:\n",
    "- Problema: Não sei quais as médias salariais do departamento de Logística;\n",
    "- Solução: Investigar uma amostra relevante dos dados que informe a métricas estatísticas dos salários\n"
   ]
  },
  {
   "cell_type": "code",
   "execution_count": 3,
   "metadata": {},
   "outputs": [
    {
     "name": "stdout",
     "output_type": "stream",
     "text": [
      "   id     nome  idade\n",
      "0   3  Charlie     35\n",
      "1   4    David     40\n"
     ]
    }
   ],
   "source": [
    "import pandas as pd\n",
    "import duckdb\n",
    "\n",
    "# Crie um dataframe de exemplo\n",
    "data = {\n",
    "    'id': [1, 2, 3, 4],\n",
    "    'nome': ['Alice', 'Bob', 'Charlie', 'David'],\n",
    "    'idade': [25, 30, 35, 40]\n",
    "}\n",
    "df = pd.DataFrame(data)\n",
    "\n",
    "# Execute uma consulta SQL diretamente no DataFrame usando duckdb\n",
    "query = \"SELECT * FROM df WHERE idade > 30\"\n",
    "result = duckdb.query(query).df()\n",
    "\n",
    "print(result)\n",
    "\n"
   ]
  },
  {
   "cell_type": "markdown",
   "metadata": {},
   "source": []
  }
 ],
 "metadata": {
  "kernelspec": {
   "display_name": "Python 3",
   "language": "python",
   "name": "python3"
  },
  "language_info": {
   "codemirror_mode": {
    "name": "ipython",
    "version": 3
   },
   "file_extension": ".py",
   "mimetype": "text/x-python",
   "name": "python",
   "nbconvert_exporter": "python",
   "pygments_lexer": "ipython3",
   "version": "3.10.4"
  }
 },
 "nbformat": 4,
 "nbformat_minor": 2
}
